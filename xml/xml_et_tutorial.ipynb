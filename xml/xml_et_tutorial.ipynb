{
 "cells": [
  {
   "cell_type": "markdown",
   "metadata": {},
   "source": [
    "**Source:** https://docs.python.org/3/library/xml.etree.elementtree.html#xml-tree-and-elements"
   ]
  },
  {
   "cell_type": "raw",
   "metadata": {},
   "source": [
    "<?xml version=\"1.0\"?>\n",
    "<data>\n",
    "    <country name=\"Liechtenstein\">\n",
    "        <rank>1</rank>\n",
    "        <year>2008</year>\n",
    "        <gdppc>141100</gdppc>\n",
    "        <neighbor name=\"Austria\" direction=\"E\"/>\n",
    "        <neighbor name=\"Switzerland\" direction=\"W\"/>\n",
    "    </country>\n",
    "    <country name=\"Singapore\">\n",
    "        <rank>4</rank>\n",
    "        <year>2011</year>\n",
    "        <gdppc>59900</gdppc>\n",
    "        <neighbor name=\"Malaysia\" direction=\"N\"/>\n",
    "    </country>\n",
    "    <country name=\"Panama\">\n",
    "        <rank>68</rank>\n",
    "        <year>2011</year>\n",
    "        <gdppc>13600</gdppc>\n",
    "        <neighbor name=\"Costa Rica\" direction=\"W\"/>\n",
    "        <neighbor name=\"Colombia\" direction=\"E\"/>\n",
    "    </country>\n",
    "</data>"
   ]
  },
  {
   "cell_type": "code",
   "execution_count": 4,
   "metadata": {},
   "outputs": [],
   "source": [
    "import xml.etree.ElementTree as ET\n",
    "tree = ET.parse('/Users/oesterli/Desktop/python_space/data/xml/country_data.xml')\n",
    "root = tree.getroot()"
   ]
  },
  {
   "cell_type": "code",
   "execution_count": null,
   "metadata": {},
   "outputs": [],
   "source": []
  },
  {
   "cell_type": "code",
   "execution_count": 50,
   "metadata": {},
   "outputs": [
    {
     "data": {
      "text/plain": [
       "'data'"
      ]
     },
     "execution_count": 50,
     "metadata": {},
     "output_type": "execute_result"
    }
   ],
   "source": [
    "# As an Element, root has a tag and a dictionary of attributes:\n",
    "root.tag"
   ]
  },
  {
   "cell_type": "code",
   "execution_count": 55,
   "metadata": {},
   "outputs": [
    {
     "ename": "TypeError",
     "evalue": "iterfind() missing required argument 'path' (pos 1)",
     "output_type": "error",
     "traceback": [
      "\u001b[0;31m---------------------------------------------------------------------------\u001b[0m",
      "\u001b[0;31mTypeError\u001b[0m                                 Traceback (most recent call last)",
      "\u001b[0;32m<ipython-input-55-3cfdf1198df1>\u001b[0m in \u001b[0;36m<module>\u001b[0;34m\u001b[0m\n\u001b[0;32m----> 1\u001b[0;31m \u001b[0mroot\u001b[0m\u001b[0;34m.\u001b[0m\u001b[0miterfind\u001b[0m\u001b[0;34m(\u001b[0m\u001b[0;34m)\u001b[0m\u001b[0;34m\u001b[0m\u001b[0;34m\u001b[0m\u001b[0m\n\u001b[0m",
      "\u001b[0;31mTypeError\u001b[0m: iterfind() missing required argument 'path' (pos 1)"
     ]
    }
   ],
   "source": [
    "root.iterfind()"
   ]
  },
  {
   "cell_type": "code",
   "execution_count": 51,
   "metadata": {},
   "outputs": [
    {
     "name": "stdout",
     "output_type": "stream",
     "text": [
      "1\n",
      "country\n",
      "{'name': 'Liechtenstein'}\n",
      "1\n",
      "country\n",
      "{'name': 'Singapore'}\n",
      "1\n",
      "country\n",
      "{'name': 'Panama'}\n"
     ]
    }
   ],
   "source": [
    "# It also has children nodes over which we can iterate:\n",
    "for child in root:\n",
    "    ci = 1\n",
    "    if child:\n",
    "        print(ci)\n",
    "        print(child.tag)\n",
    "        print(child.attrib)\n",
    "        ci += 1\n",
    "        for cchild\n",
    "    else:\n",
    "        print('NO child anymore')\n",
    "        \n",
    "    "
   ]
  },
  {
   "cell_type": "code",
   "execution_count": 41,
   "metadata": {},
   "outputs": [
    {
     "name": "stdout",
     "output_type": "stream",
     "text": [
      "1 - country {'name': 'Liechtenstein'} \n",
      "        \n",
      "1 1 -- rank {} 1\n",
      "1 2 -- year {} 2008\n",
      "1 3 -- gdppc {} 141100\n",
      "1 4 -- neighbor {'name': 'Austria', 'direction': 'E'} None\n",
      "1 5 -- neighbor {'name': 'Switzerland', 'direction': 'W'} None\n",
      "2 - country {'name': 'Singapore'} \n",
      "        \n",
      "2 1 -- rank {} 4\n",
      "2 2 -- year {} 2011\n",
      "2 3 -- gdppc {} 59900\n",
      "2 4 -- neighbor {'name': 'Malaysia', 'direction': 'N'} None\n",
      "3 - country {'name': 'Panama'} \n",
      "        \n",
      "3 1 -- rank {} 68\n",
      "3 2 -- year {} 2011\n",
      "3 3 -- gdppc {} 13600\n",
      "3 4 -- neighbor {'name': 'Costa Rica', 'direction': 'W'} None\n",
      "3 5 -- neighbor {'name': 'Colombia', 'direction': 'E'} None\n"
     ]
    }
   ],
   "source": [
    "i = 1\n",
    "j = 1\n",
    "for child in root:\n",
    "    print(i,\"-\", child.tag, child.attrib, child.text)\n",
    "    for cchild in child:\n",
    "        print(i, j, '--', cchild.tag, cchild.attrib, cchild.text)\n",
    "        j+=1\n",
    "    j = 1\n",
    "    i+=1   "
   ]
  },
  {
   "cell_type": "code",
   "execution_count": 8,
   "metadata": {},
   "outputs": [
    {
     "data": {
      "text/plain": [
       "'141100'"
      ]
     },
     "execution_count": 8,
     "metadata": {},
     "output_type": "execute_result"
    }
   ],
   "source": [
    "root[0][2].text"
   ]
  },
  {
   "cell_type": "code",
   "execution_count": null,
   "metadata": {},
   "outputs": [],
   "source": []
  }
 ],
 "metadata": {
  "kernelspec": {
   "display_name": "env02",
   "language": "python",
   "name": "env02"
  },
  "language_info": {
   "codemirror_mode": {
    "name": "ipython",
    "version": 3
   },
   "file_extension": ".py",
   "mimetype": "text/x-python",
   "name": "python",
   "nbconvert_exporter": "python",
   "pygments_lexer": "ipython3",
   "version": "3.7.6"
  }
 },
 "nbformat": 4,
 "nbformat_minor": 4
}
