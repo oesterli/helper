{
 "cells": [
  {
   "cell_type": "code",
   "execution_count": 15,
   "metadata": {},
   "outputs": [],
   "source": [
    "import json\n",
    "import os\n",
    "import xml.etree.ElementTree as ET\n",
    "import csv"
   ]
  },
  {
   "cell_type": "code",
   "execution_count": 16,
   "metadata": {},
   "outputs": [],
   "source": [
    "#in_xml = r\"\\\\adb.intra.admin.ch\\SWISSTOPO$\\Transfer\\reg\\xml\\InfoGeol-Document-Extract_utf8.xml\"\n",
    "in_xml = r\"/Users/oesterli/Desktop/python_space/data/xml/infogeol_test.xml\"\n",
    "out_json = os.path.splitext(in_xml)[0] + \".json\""
   ]
  },
  {
   "cell_type": "code",
   "execution_count": 17,
   "metadata": {},
   "outputs": [],
   "source": [
    "# define namespaces as dict\n",
    "namespaces = {\"i\": r\"http://www.bwg.admin.ch/migeol/document\"}"
   ]
  },
  {
   "cell_type": "code",
   "execution_count": 18,
   "metadata": {},
   "outputs": [],
   "source": [
    "# parse entire xml document\n",
    "tree = ET.parse(in_xml)\n",
    "root = tree.getroot()"
   ]
  },
  {
   "cell_type": "code",
   "execution_count": 19,
   "metadata": {},
   "outputs": [
    {
     "data": {
      "text/plain": [
       "'{http://www.bwg.admin.ch/migeol/document}test-container'"
      ]
     },
     "execution_count": 19,
     "metadata": {},
     "output_type": "execute_result"
    }
   ],
   "source": [
    "root.tag"
   ]
  },
  {
   "cell_type": "code",
   "execution_count": 12,
   "metadata": {},
   "outputs": [
    {
     "name": "stdout",
     "output_type": "stream",
     "text": [
      "['{http://www.bwg.admin.ch/migeol/document}document', {'{http://www.bwg.admin.ch/migeol/document}object-id': '62253'}]\n",
      "['{http://www.bwg.admin.ch/migeol/document}document', {'{http://www.bwg.admin.ch/migeol/document}object-id': '62253'}, '{http://www.bwg.admin.ch/migeol/document}document', {'{http://www.bwg.admin.ch/migeol/document}object-id': '1'}]\n",
      "['{http://www.bwg.admin.ch/migeol/document}document', {'{http://www.bwg.admin.ch/migeol/document}object-id': '62253'}, '{http://www.bwg.admin.ch/migeol/document}document', {'{http://www.bwg.admin.ch/migeol/document}object-id': '1'}, '{http://www.bwg.admin.ch/migeol/document}document', {'{http://www.bwg.admin.ch/migeol/document}object-id': '2'}]\n"
     ]
    }
   ],
   "source": [
    "# It also has children nodes over which we can iterate:\n",
    "test = []\n",
    "for child in root:\n",
    "    test.append(child.tag)\n",
    "    test.append(child.attrib)\n",
    "    print(test)\n",
    "    #print(child.tag, child.attrib)"
   ]
  },
  {
   "cell_type": "code",
   "execution_count": 20,
   "metadata": {},
   "outputs": [
    {
     "data": {
      "text/plain": [
       "'{http://www.bwg.admin.ch/migeol/document}document'"
      ]
     },
     "execution_count": 20,
     "metadata": {},
     "output_type": "execute_result"
    }
   ],
   "source": [
    "test[0]"
   ]
  },
  {
   "cell_type": "code",
   "execution_count": 60,
   "metadata": {},
   "outputs": [
    {
     "data": {
      "text/plain": [
       "['d', 'o', 'c', 'u', 'm', 'e', 'n', 't']"
      ]
     },
     "execution_count": 60,
     "metadata": {},
     "output_type": "execute_result"
    }
   ],
   "source": []
  },
  {
   "cell_type": "code",
   "execution_count": 56,
   "metadata": {},
   "outputs": [
    {
     "ename": "TypeError",
     "evalue": "unhashable type: 'dict'",
     "output_type": "error",
     "traceback": [
      "\u001b[0;31m---------------------------------------------------------------------------\u001b[0m",
      "\u001b[0;31mTypeError\u001b[0m                                 Traceback (most recent call last)",
      "\u001b[0;32m<ipython-input-56-1f6ce83c12b5>\u001b[0m in \u001b[0;36m<module>\u001b[0;34m\u001b[0m\n\u001b[1;32m      3\u001b[0m \u001b[0;32mfor\u001b[0m \u001b[0mdoc\u001b[0m \u001b[0;32min\u001b[0m \u001b[0mroot\u001b[0m\u001b[0;34m.\u001b[0m\u001b[0mfindall\u001b[0m\u001b[0;34m(\u001b[0m\u001b[0;34m\"i:document\"\u001b[0m\u001b[0;34m,\u001b[0m \u001b[0mns\u001b[0m\u001b[0;34m)\u001b[0m\u001b[0;34m:\u001b[0m\u001b[0;34m\u001b[0m\u001b[0;34m\u001b[0m\u001b[0m\n\u001b[1;32m      4\u001b[0m     \u001b[0mname\u001b[0m \u001b[0;34m=\u001b[0m \u001b[0mdoc\u001b[0m\u001b[0;34m.\u001b[0m\u001b[0mfind\u001b[0m\u001b[0;34m(\u001b[0m\u001b[0;34m\"i:header\"\u001b[0m\u001b[0;34m,\u001b[0m \u001b[0mns\u001b[0m\u001b[0;34m)\u001b[0m\u001b[0;34m\u001b[0m\u001b[0;34m\u001b[0m\u001b[0m\n\u001b[0;32m----> 5\u001b[0;31m     \u001b[0mprint\u001b[0m\u001b[0;34m(\u001b[0m\u001b[0mname\u001b[0m\u001b[0;34m.\u001b[0m\u001b[0mtag\u001b[0m\u001b[0;34m,\u001b[0m \u001b[0mname\u001b[0m\u001b[0;34m.\u001b[0m\u001b[0mattrib\u001b[0m\u001b[0;34m.\u001b[0m\u001b[0mfromkeys\u001b[0m\u001b[0;34m(\u001b[0m\u001b[0;34m(\u001b[0m\u001b[0;34m'i:sgd-number'\u001b[0m\u001b[0;34m,\u001b[0m \u001b[0mns\u001b[0m\u001b[0;34m)\u001b[0m\u001b[0;34m)\u001b[0m\u001b[0;34m)\u001b[0m\u001b[0;34m\u001b[0m\u001b[0;34m\u001b[0m\u001b[0m\n\u001b[0m\u001b[1;32m      6\u001b[0m     \u001b[0;32mfor\u001b[0m \u001b[0mchar\u001b[0m \u001b[0;32min\u001b[0m \u001b[0mname\u001b[0m\u001b[0;34m.\u001b[0m\u001b[0mfindall\u001b[0m\u001b[0;34m(\u001b[0m\u001b[0;34m\"i:title\"\u001b[0m\u001b[0;34m,\u001b[0m \u001b[0mns\u001b[0m\u001b[0;34m)\u001b[0m\u001b[0;34m:\u001b[0m\u001b[0;34m\u001b[0m\u001b[0;34m\u001b[0m\u001b[0m\n\u001b[1;32m      7\u001b[0m         \u001b[0mprint\u001b[0m\u001b[0;34m(\u001b[0m\u001b[0;34m' |-->'\u001b[0m\u001b[0;34m,\u001b[0m \u001b[0mchar\u001b[0m\u001b[0;34m.\u001b[0m\u001b[0mtext\u001b[0m\u001b[0;34m)\u001b[0m\u001b[0;34m\u001b[0m\u001b[0;34m\u001b[0m\u001b[0m\n",
      "\u001b[0;31mTypeError\u001b[0m: unhashable type: 'dict'"
     ]
    }
   ],
   "source": [
    "ns = {\"i\": r\"http://www.bwg.admin.ch/migeol/document\"}\n",
    "\n",
    "for doc in root.findall(\"i:document\", ns):\n",
    "    name = doc.find(\"i:header\", ns)\n",
    "    print(name.tag, name.attrib.fromkeys(('i:sgd-number', ns)))\n",
    "    for char in name.findall(\"i:title\", ns):\n",
    "        print(' |-->', char.text)\n",
    "        print('check')"
   ]
  },
  {
   "cell_type": "code",
   "execution_count": null,
   "metadata": {},
   "outputs": [],
   "source": []
  },
  {
   "cell_type": "code",
   "execution_count": null,
   "metadata": {},
   "outputs": [],
   "source": [
    "i = 1\n",
    "j = 1\n",
    "for child in root:\n",
    "    print(i,\"-\", child.tag, child.attrib, child.text)\n",
    "    for cchild in child:\n",
    "        print(i, j, '--', cchild.tag, cchild.attrib, cchild.text)\n",
    "        j+=1\n",
    "    j = 1\n",
    "    i+=1   "
   ]
  },
  {
   "cell_type": "code",
   "execution_count": null,
   "metadata": {},
   "outputs": [],
   "source": [
    "# prepare empty documents dict\n",
    "documents_dict = {}"
   ]
  },
  {
   "cell_type": "code",
   "execution_count": null,
   "metadata": {},
   "outputs": [],
   "source": [
    "# loop over all documents\n",
    "for document in root.findall(\"i:document\", namespaces):\n",
    "\n",
    "    # read attribute object-id\n",
    "    object_id = document.attrib[\"{{{}}}object-id\".format(namespaces[\"i\"])]\n",
    "\n",
    "    try:\n",
    "        # read texts\n",
    "        orig_title = document.find(\"i:header/i:orig-title\", namespaces).text\n",
    "        initiator = document.find(\"i:header/i:initiator\", namespaces).text\n",
    "        #supplier = document.find(\"i:header/i:supplier\", namespaces).text\n",
    "        ##\n",
    "        if document.find(\"i:header/i:supplier\", namespaces):\n",
    "            print(\"check\")\n",
    "            supplier = document.find(\"i:header/i:supplier\", namespaces).text\n",
    "        else:\n",
    "            supplier = \"check\"\n",
    "            pass\n",
    "        ##\n",
    "\n",
    "        # read attribute from child\n",
    "        author_codes_id = document.find(\"i:header/i:author-codes\", namespaces).attrib[\"{{{}}}id\".format(namespaces[\"i\"])]\n",
    "\n",
    "        # add items as key-value pairs to dict with key object_id\n",
    "        documents_dict[object_id] = {\"orig_title\": orig_title,\n",
    "                                     \"initiator\": initiator,\n",
    "                                     ###\n",
    "                                     \"supplier\": supplier,\n",
    "                                     ###\n",
    "                                     \"author_codes_id\": author_codes_id}\n",
    "                                     #\"auxiliary-information\": auxiliary-information}\n",
    "        # \n",
    "        aux_info = document.find(\"i:header/i:auxiliary-information\", namespaces).text\n",
    "        \n",
    "    except Exception as e:\n",
    "        print(object_id, e.message)\n",
    "\n",
    "# write dict to new file\n",
    "with open(out_json, \"w\") as w:\n",
    "    json.dump(documents_dict, w, indent=2)"
   ]
  },
  {
   "cell_type": "markdown",
   "metadata": {},
   "source": [
    "### ---- TEST"
   ]
  },
  {
   "cell_type": "code",
   "execution_count": null,
   "metadata": {},
   "outputs": [],
   "source": [
    "import xml.etree.ElementTree as ET\n",
    "\n",
    "def perf_func(elem, func, level=0):\n",
    "    func(elem,level)\n",
    "    for child in elem.getchildren():\n",
    "        perf_func(child, func, level+1)\n",
    "\n",
    "def print_level(elem,level):\n",
    "    print('-'*level+elem.tag)\n",
    "\n",
    "root = ET.parse(in_xml)\n",
    "perf_func(root.getroot(), print_level)"
   ]
  },
  {
   "cell_type": "code",
   "execution_count": null,
   "metadata": {},
   "outputs": [],
   "source": []
  },
  {
   "cell_type": "code",
   "execution_count": null,
   "metadata": {},
   "outputs": [],
   "source": [
    "\n",
    "\n"
   ]
  },
  {
   "cell_type": "code",
   "execution_count": null,
   "metadata": {},
   "outputs": [],
   "source": [
    "in_xml = r\"/Users/oesterli/Desktop/python_space/data/xml/infogeol_test.xml\"\n",
    "out_csv = os.path.splitext(in_xml)[0] + \".csv\""
   ]
  },
  {
   "cell_type": "code",
   "execution_count": null,
   "metadata": {},
   "outputs": [],
   "source": [
    "tree = ET.parse(in_xml)\n",
    "root = tree.getroot()\n",
    " "
   ]
  },
  {
   "cell_type": "code",
   "execution_count": null,
   "metadata": {},
   "outputs": [],
   "source": [
    "Resident_data = open(out_csv, 'w')\n",
    " \n",
    "csvwriter = csv.writer(Resident_data)\n",
    "resident_head = []\n",
    " "
   ]
  },
  {
   "cell_type": "code",
   "execution_count": null,
   "metadata": {},
   "outputs": [],
   "source": [
    "count = 0\n",
    "for member in root.findall('Resident'):\n",
    "    resident = []\n",
    "    address_list = []\n",
    "    if count == 0:\n",
    "        name = member.find('Name').tag\n",
    "        resident_head.append(name)\n",
    "        Phone = member.find('Phone').tag\n",
    "        resident_head.append(Phone)\n",
    "        Email = member.find('Email').tag\n",
    "        resident_head.append(Email)\n",
    "         \n",
    "        csvwriter.writerow(resident_head)\n",
    "        count = count + 1\n",
    " \n",
    "    name = member.find('Name').text\n",
    "    resident.append(name)\n",
    "    Phone = member.find('Phone').text\n",
    "    resident.append(Phone)\n",
    "    Email = member.find('Email').text\n",
    "    resident.append(Email)\n",
    "     \n",
    "    csvwriter.writerow(resident)\n",
    " \n",
    " \n",
    "Resident_data.close()"
   ]
  },
  {
   "cell_type": "code",
   "execution_count": null,
   "metadata": {},
   "outputs": [],
   "source": [
    "for att in root:\n",
    "    first = att.find('attval', namespaces).text\n",
    "    for subatt in att.find('children', namespaces):\n",
    "        second = subatt.find('attval', namespaces).text\n",
    "        print('{},{}'.format(first, second))\n"
   ]
  },
  {
   "cell_type": "code",
   "execution_count": null,
   "metadata": {},
   "outputs": [],
   "source": []
  },
  {
   "cell_type": "code",
   "execution_count": null,
   "metadata": {},
   "outputs": [],
   "source": [
    "xmlDocument = '''<?xml version=\"1.0\" encoding=\"ISO-8859-1\"?> \\\n",
    "<Root> \\\n",
    "<Messages> \\\n",
    "<Message id='12345'> \\\n",
    "   <status>Active</status> \\\n",
    "   <priority>Low</priority> \\\n",
    "   <Area> \\\n",
    "    <Streets> \\\n",
    "     <Street> \\\n",
    "      <name>King Street</name> \\\n",
    "      <length>Short</length> \\\n",
    "       <Link> \\\n",
    "        <id>75838745</id> \\\n",
    "        <direction>North</direction> \\\n",
    "       </Link> \\\n",
    "       <Link> \\\n",
    "        <id>168745</id> \\\n",
    "        <direction>South</direction> \\\n",
    "       </Link> \\\n",
    "       <Link> \\\n",
    "        <id>975416</id> \\\n",
    "        <direction>North</direction> \\\n",
    "       </Link> \\\n",
    "     </Street> \\\n",
    "     <Street> \\\n",
    "      <name>Queen Street</name> \\\n",
    "      <length>Long</length> \\\n",
    "       <Link> \\\n",
    "        <id>366248</id> \\\n",
    "         <direction>West</direction> \\\n",
    "       </Link> \\\n",
    "       <Link> \\\n",
    "        <id>745812</id> \\\n",
    "         <direction>East</direction> \\\n",
    "       </Link> \\\n",
    "     </Street> \\\n",
    "    </Streets> \\\n",
    "   </Area> \\\n",
    "</Message> \\\n",
    "<Message id='54321'> \\\n",
    "   <status>Inactive</status> \\\n",
    "   <priority>High</priority> \\\n",
    "   <Area> \\\n",
    "    <Streets> \\\n",
    "     <Street> \\\n",
    "      <name>Princess Street</name> \\\n",
    "      <length>Mid</length> \\\n",
    "       <Link> \\\n",
    "        <id>744154</id> \\\n",
    "        <direction>West</direction> \\\n",
    "       </Link> \\\n",
    "       <Link> \\\n",
    "        <id>632214</id> \\\n",
    "        <direction>South</direction> \\\n",
    "       </Link> \\\n",
    "       <Link> \\\n",
    "        <id>654785</id> \\\n",
    "        <direction>East</direction> \\\n",
    "       </Link> \\\n",
    "     </Street> \\\n",
    "     <Street> \\\n",
    "      <name>Prince Street</name> \\\n",
    "      <length>Very Long</length> \\\n",
    "       <Link> \\\n",
    "        <id>1022444</id> \\\n",
    "         <direction>North</direction> \\\n",
    "       </Link> \\\n",
    "       <Link> \\\n",
    "        <id>4474558</id> \\\n",
    "         <direction>South</direction> \\\n",
    "       </Link> \\\n",
    "     </Street> \\\n",
    "    </Streets> \\\n",
    "   </Area> \\\n",
    "</Message> \\\n",
    "</Messages> \\\n",
    "</Root>'''\n",
    "\n",
    "\n",
    "# imports\n",
    "import xml.etree.ElementTree as ET\n",
    "import pandas as pd\n",
    "\n",
    "# initialize parsing from Bytes buffer\n",
    "from io import BytesIO\n",
    "xmlDocument = BytesIO(xmlDocument.encode('utf-8'))\n",
    "\n",
    "# initialize dictionaries storing the information to each type of row\n",
    "messageRow, streetRow, linkRow = {}, {}, {}\n",
    "\n",
    "# initialize list that stores the single dataframe rows\n",
    "listOfRows = []\n",
    "\n",
    "# read the xml file line by line and throw signal when specific tags start or end\n",
    "for event, element in ET.iterparse(xmlDocument, events=('start', 'end')):\n",
    "\n",
    "    ##########\n",
    "    # get all information on the current message and store in the appropriate dictionary\n",
    "    ##########\n",
    "\n",
    "    # get current message's id attribute\n",
    "    if event == 'start' and element.tag == 'Message':\n",
    "        messageRow = {} # re-initialize the dictionary for the current row\n",
    "        messageRow['messageId'] = element.get('id')\n",
    "\n",
    "    # get current message's status\n",
    "    if event == 'end' and element.tag == 'status':\n",
    "        messageRow['status'] = element.text\n",
    "\n",
    "    # get current message's priority\n",
    "    if event == 'end' and element.tag == 'priority':\n",
    "        messageRow['priority'] = element.text\n",
    "\n",
    "    # when no more information on the current message is expected, append it to the list of rows\n",
    "    if event == 'end' and element.tag == 'priority':\n",
    "        listOfRows.append(messageRow)\n",
    "\n",
    "    ##########\n",
    "    # get all information on the current street and store in row dictionary\n",
    "    ##########\n",
    "\n",
    "    if event == 'end' and element.tag == 'name':\n",
    "        streetRow = {} # re-initialize the dictionary for the current street row\n",
    "        streetRow['streetName'] = element.text\n",
    "\n",
    "    if event == 'end' and element.tag == 'length':\n",
    "        streetRow['streetLength'] = element.text\n",
    "\n",
    "    # when no more information on the current street is expected, append it to the list of rows\n",
    "    if event == 'end' and element.tag == 'length':\n",
    "\n",
    "        # link the street to the message it belongs to, then append\n",
    "        streetRow['messageId'] = messageRow['messageId']\n",
    "        listOfRows.append(streetRow)\n",
    "\n",
    "    ##########\n",
    "    # get all information on the current link and store in row dictionary\n",
    "    ##########\n",
    "\n",
    "    if event == 'end' and element.tag == 'id':\n",
    "        linkRow = {} # re-initialize the dictionary for the current link row\n",
    "        linkRow['linkId'] = element.text\n",
    "\n",
    "    if event == 'end' and element.tag == 'direction':\n",
    "        linkRow['direction'] = element.text\n",
    "\n",
    "    # when no more information on the current link is expected, append it to the list of rows\n",
    "    if event == 'end' and element.tag == 'direction':\n",
    "\n",
    "        # link the link to the message it belongs to, then append\n",
    "        linkRow['messageId'] = messageRow['messageId']\n",
    "        listOfRows.append(linkRow)\n"
   ]
  },
  {
   "cell_type": "markdown",
   "metadata": {},
   "source": [
    "### ---- TEST"
   ]
  },
  {
   "cell_type": "code",
   "execution_count": null,
   "metadata": {},
   "outputs": [],
   "source": []
  },
  {
   "cell_type": "code",
   "execution_count": null,
   "metadata": {},
   "outputs": [],
   "source": []
  },
  {
   "cell_type": "code",
   "execution_count": 66,
   "metadata": {},
   "outputs": [],
   "source": [
    "import xml.etree.ElementTree as et\n",
    "e=et.Element('name')"
   ]
  },
  {
   "cell_type": "code",
   "execution_count": 68,
   "metadata": {},
   "outputs": [
    {
     "ename": "NameError",
     "evalue": "name 'xml' is not defined",
     "output_type": "error",
     "traceback": [
      "\u001b[0;31m---------------------------------------------------------------------------\u001b[0m",
      "\u001b[0;31mNameError\u001b[0m                                 Traceback (most recent call last)",
      "\u001b[0;32m<ipython-input-68-44be10f670db>\u001b[0m in \u001b[0;36m<module>\u001b[0;34m\u001b[0m\n\u001b[0;32m----> 1\u001b[0;31m \u001b[0mroot\u001b[0m\u001b[0;34m=\u001b[0m\u001b[0mxml\u001b[0m\u001b[0;34m.\u001b[0m\u001b[0mElement\u001b[0m\u001b[0;34m(\u001b[0m\u001b[0;34m'employees'\u001b[0m\u001b[0;34m)\u001b[0m\u001b[0;34m\u001b[0m\u001b[0;34m\u001b[0m\u001b[0m\n\u001b[0m\u001b[1;32m      2\u001b[0m \u001b[0mroot\u001b[0m\u001b[0;34m.\u001b[0m\u001b[0mtag\u001b[0m\u001b[0;34m\u001b[0m\u001b[0;34m\u001b[0m\u001b[0m\n",
      "\u001b[0;31mNameError\u001b[0m: name 'xml' is not defined"
     ]
    }
   ],
   "source": [
    "root=xml.Element('employees')\n",
    "root.tag"
   ]
  },
  {
   "cell_type": "code",
   "execution_count": null,
   "metadata": {},
   "outputs": [],
   "source": []
  }
 ],
 "metadata": {
  "kernelspec": {
   "display_name": "env02",
   "language": "python",
   "name": "env02"
  },
  "language_info": {
   "codemirror_mode": {
    "name": "ipython",
    "version": 3
   },
   "file_extension": ".py",
   "mimetype": "text/x-python",
   "name": "python",
   "nbconvert_exporter": "python",
   "pygments_lexer": "ipython3",
   "version": "3.7.6"
  }
 },
 "nbformat": 4,
 "nbformat_minor": 4
}
